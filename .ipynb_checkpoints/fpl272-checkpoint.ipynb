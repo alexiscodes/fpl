{
 "cells": [
  {
   "cell_type": "code",
   "execution_count": 1,
   "metadata": {
    "collapsed": true
   },
   "outputs": [],
   "source": [
    "import pandas as pd"
   ]
  },
  {
   "cell_type": "code",
   "execution_count": 2,
   "metadata": {
    "collapsed": false
   },
   "outputs": [],
   "source": [
    "from bs4 import BeautifulSoup\n",
    "import requests\n",
    "from lxml import html\n",
    "import json\n",
    "import numpy as np"
   ]
  },
  {
   "cell_type": "markdown",
   "metadata": {},
   "source": [
    "# Get Players"
   ]
  },
  {
   "cell_type": "code",
   "execution_count": 3,
   "metadata": {
    "collapsed": true
   },
   "outputs": [],
   "source": [
    "dump = requests.get('https://fantasy.premierleague.com/drf/bootstrap')\n",
    "load = dump.text"
   ]
  },
  {
   "cell_type": "code",
   "execution_count": 4,
   "metadata": {
    "collapsed": true
   },
   "outputs": [],
   "source": [
    "json_dump = json.loads(load)"
   ]
  },
  {
   "cell_type": "code",
   "execution_count": 5,
   "metadata": {
    "collapsed": true
   },
   "outputs": [],
   "source": [
    "datapoints = ['id', 'web_name', 'first_name', 'total_points', 'event_points', 'now_cost','cost_change_start', \n",
    "              'selected_by_percent', 'form','ep_next', \n",
    "              'chance_of_playing_next_round','minutes', 'bonus', 'goals_scored', 'assists', 'clean_sheets', \n",
    "              'goals_conceded', 'bps', 'influence', 'creativity', 'threat', 'ict_index', 'ea_index', 'news']\n",
    "\n",
    "player_list = []\n",
    "\n",
    "for player in range(0, len(json_dump['elements'])):\n",
    "    stats = [json_dump['elements'][player][x] for x in datapoints]\n",
    "    player_list.append(stats)\n",
    "    \n",
    "player_df = pd.DataFrame(player_list)\n",
    "\n",
    "# Rename columns\n",
    "\n",
    "player_df.columns = datapoints"
   ]
  },
  {
   "cell_type": "markdown",
   "metadata": {},
   "source": [
    "# Get Positions"
   ]
  },
  {
   "cell_type": "code",
   "execution_count": 8,
   "metadata": {
    "collapsed": true
   },
   "outputs": [],
   "source": [
    "players = requests.get('https://fantasy.premierleague.com/player-list/')\n",
    "totals = players.text\n",
    "total_soup = BeautifulSoup(totals)"
   ]
  },
  {
   "cell_type": "code",
   "execution_count": 9,
   "metadata": {
    "collapsed": true
   },
   "outputs": [],
   "source": [
    "#Get all player names\n",
    "\n",
    "player_names = total_soup.find_all('td')[::4]\n",
    "\n",
    "players = []\n",
    "\n",
    "for player in player_names:\n",
    "    name = player.get_text()\n",
    "    players.append(name)\n",
    "\n",
    "player_name_df = pd.DataFrame({\"Name\": players})"
   ]
  },
  {
   "cell_type": "code",
   "execution_count": 10,
   "metadata": {
    "collapsed": true
   },
   "outputs": [],
   "source": [
    "# Positions for first and last player in each field\n",
    "\n",
    "for i, e in enumerate(player_name_df['Name']):\n",
    "    if e == 'De Gea':   \n",
    "        gk=i\n",
    "    if e == 'Azpilicueta':   \n",
    "        defe=i\n",
    "    if e == 'Salah':   \n",
    "        mid=i\n",
    "    if e == 'Kane':   \n",
    "        att=i"
   ]
  },
  {
   "cell_type": "code",
   "execution_count": 11,
   "metadata": {
    "collapsed": false,
    "scrolled": true
   },
   "outputs": [],
   "source": [
    "#Populate df with positions\n",
    "player_name_df['position']=''\n",
    "\n",
    "\n",
    "player_name_df.loc[gk:(defe),'position']='Goalkeeper'\n",
    "player_name_df.loc[defe:(mid),'position']='Defender'\n",
    "player_name_df.loc[mid:(att),'position']='Midfielder'\n",
    "player_name_df.loc[att:,'position']='Attacker'"
   ]
  },
  {
   "cell_type": "code",
   "execution_count": 12,
   "metadata": {
    "collapsed": true
   },
   "outputs": [],
   "source": [
    "fpl_players =  pd.merge(player_name_df, player_df, left_on='Name', right_on='web_name')"
   ]
  },
  {
   "cell_type": "code",
   "execution_count": 62,
   "metadata": {
    "collapsed": false
   },
   "outputs": [
    {
     "name": "stderr",
     "output_type": "stream",
     "text": [
      "/Users/alexis.becker/anaconda/envs/py27/lib/python2.7/site-packages/ipykernel_launcher.py:10: UserWarning: Boolean Series key will be reindexed to match DataFrame index.\n",
      "  # Remove the CWD from sys.path while we load stuff.\n"
     ]
    }
   ],
   "source": [
    "# Deal with duplicates\n",
    "\n",
    "duplicats = fpl_players['Name'].value_counts()>1\n",
    "\n",
    "dup_names = fpl_players['Name'].isin(['Rico', 'McCarthy','Ward','Bennett','Davies','Gray','Long','Simpson','Reid','Sánchez','McCartyh','Stephens', 'Pereira', 'Murphy', 'Williams'])\n",
    "dup_ids = fpl_players['id'].isin([295, 359])\n",
    "\n",
    "\n",
    "fpl_players.drop(fpl_players[dup_names].index, inplace=True)\n",
    "fpl_players.drop(fpl_players[dup_ids].index, inplace=True)"
   ]
  },
  {
   "cell_type": "markdown",
   "metadata": {},
   "source": [
    "# Optimal Choice"
   ]
  },
  {
   "cell_type": "code",
   "execution_count": 63,
   "metadata": {
    "collapsed": false
   },
   "outputs": [],
   "source": [
    "import pulp\n",
    "import regex\n",
    "import pickle\n",
    "import itertools"
   ]
  },
  {
   "cell_type": "markdown",
   "metadata": {},
   "source": [
    "# Iteration 3.0"
   ]
  },
  {
   "cell_type": "code",
   "execution_count": 93,
   "metadata": {
    "collapsed": false
   },
   "outputs": [],
   "source": [
    "#Change format of df\n",
    "fpl_players['influence_f'] = fpl_players['influence'].astype(float)\n",
    "fpl_players['influence_f'].fillna(0, inplace=True)\n",
    "\n",
    "fpl_players['bps_f'] = fpl_players['bps'].astype(float)\n",
    "fpl_players['bps_f'].fillna(0, inplace=True)\n",
    "\n",
    "fpl_players['now_cost_f'] = fpl_players['now_cost'].astype(float)\n",
    "fpl_players['now_cost'].fillna(0, inplace=True)\n",
    "\n",
    "fpl_players['ict_f'] = fpl_players['ict_index'].astype(float)\n",
    "fpl_players['ict_f'].fillna(0, inplace=True)\n",
    "\n",
    "#Make variables\n",
    "\n",
    "#Player variables by position\n",
    "influence = fpl_players[['id',\"influence_f\"]]\n",
    "threat = fpl_players[['id',\"threat\"]]\n",
    "creativity = fpl_players[['id',\"creativity\"]]"
   ]
  },
  {
   "cell_type": "markdown",
   "metadata": {
    "collapsed": true
   },
   "source": [
    "# Get weighted summary stats for each player\n",
    "\n",
    "condlist = [fpl_players['position']=='Goalkeeper', fpl_players['position']=='Defender',fpl_players['position']=='Midfielder',fpl_players['position']=='Attacker']\n",
    "choicelist = [fpl_players['stats']=fpl_players['influence'],fpl_players['stats']=fpl_players['influence'],fpl_players['stats']=fpl_players['influence'],fpl_players['stats']=fpl_players['influence']]"
   ]
  },
  {
   "cell_type": "code",
   "execution_count": 96,
   "metadata": {
    "collapsed": true
   },
   "outputs": [],
   "source": [
    "#Make variables for positions\n",
    "sorting = 'influence_f'\n",
    "top_players = 100\n",
    "\n",
    "\n",
    "gks = fpl_players[fpl_players['position']=='Goalkeeper'].sort_values(by=sorting, ascending=False)[:20]\n",
    "defs = fpl_players[fpl_players['position']=='Defender'].sort_values(by=sorting, ascending=False)[:20]\n",
    "mds = fpl_players[fpl_players['position']=='Midfielder'].sort_values(by=sorting, ascending=False)[:20]\n",
    "ats = fpl_players[fpl_players['position']=='Attacker'].sort_values(by=sorting, ascending=False)[:20]\n",
    "\n",
    "rgks=range(0, len(gks))\n",
    "rdefs=range(0, len(defs))\n",
    "rmds=range(0, len(mds))\n",
    "rats=range(0, len(ats))"
   ]
  },
  {
   "cell_type": "code",
   "execution_count": 97,
   "metadata": {
    "collapsed": false
   },
   "outputs": [],
   "source": [
    "#Make tuples\n",
    "\n",
    "\n",
    "gk = [tuple(c) for c in itertools.combinations(gks['id'], 2)]\n",
    "df = [tuple(c) for c in itertools.combinations(defs['id'], 5)]\n",
    "md = [tuple(c) for c in itertools.combinations(mds['id'], 5)]\n",
    "at = [tuple(c) for c in itertools.combinations(ats['id'], 3)]"
   ]
  },
  {
   "cell_type": "markdown",
   "metadata": {
    "collapsed": true
   },
   "source": [
    "\n",
    "\n",
    "# Possible tuples\n",
    "possible_gk = [tuple(c) for c in pulp.allcombinations(gks['id'], 2)]\n",
    "possible_df = [tuple(c) for c in pulp.allcombinations(defs['id'], 2)]\n",
    "possible_md = [tuple(c) for c in pulp.allcombinations(mds['id'], 5)]\n",
    "possible_at = [tuple(c) for c in pulp.allcombinations(ats['id'], 3)]"
   ]
  },
  {
   "cell_type": "code",
   "execution_count": 98,
   "metadata": {
    "collapsed": true
   },
   "outputs": [],
   "source": [
    "#Make optjection function\n",
    "\n",
    "def total_influence(player, var):\n",
    "    \"\"\"Find the value of the table - \n",
    "    by calculating the combined influence between the players\"\"\"\n",
    "    u = []\n",
    "    \n",
    "    #for i in player:\n",
    "        #vol = fpl_players[fpl_players['id']==i][var].item()\n",
    "        #u.append(vol)\n",
    "\n",
    "    for i in range(0, len(player)):\n",
    "        vol = fpl_players[fpl_players['id']==player[i]][var].item()\n",
    "        u.append(vol)\n",
    "    return sum(u)\n"
   ]
  },
  {
   "cell_type": "code",
   "execution_count": 112,
   "metadata": {
    "collapsed": true
   },
   "outputs": [],
   "source": [
    "#Make price function\n",
    "\n",
    "def total_price(player):\n",
    "    \"\"\"Find the current price of the player \"\"\"\n",
    "    u = []\n",
    "    \n",
    "    for i in range(0, len(player)):\n",
    "        vol = fpl_players[fpl_players['id']==player[i]]['now_cost'].item()\n",
    "        u.append(vol)\n",
    "    return sum(u)\n"
   ]
  },
  {
   "cell_type": "code",
   "execution_count": 99,
   "metadata": {
    "collapsed": false
   },
   "outputs": [],
   "source": [
    "# Make variables\n",
    "\n",
    "# for all possible GK options\n",
    "g = pulp.LpVariable.dicts('gks', gk, \n",
    "                            lowBound = 0,\n",
    "                            upBound = 1,\n",
    "                            cat = pulp.LpInteger)\n",
    "\n",
    "# for all possible DF options\n",
    "d = pulp.LpVariable.dicts('dfs', df, \n",
    "                            lowBound = 0,\n",
    "                            upBound = 1,\n",
    "                            cat = pulp.LpInteger)\n",
    "\n",
    "# for all possible MD options\n",
    "m = pulp.LpVariable.dicts('mds', md, \n",
    "                            lowBound = 0,\n",
    "                            upBound = 1,\n",
    "                            cat = pulp.LpInteger)\n",
    "\n",
    "# for all possible AT options\n",
    "a = pulp.LpVariable.dicts('ats', at, \n",
    "                            lowBound = 0,\n",
    "                            upBound = 1,\n",
    "                            cat = pulp.LpInteger)"
   ]
  },
  {
   "cell_type": "code",
   "execution_count": 100,
   "metadata": {
    "collapsed": false
   },
   "outputs": [],
   "source": [
    "#Optimization goal\n",
    "\n",
    "player_selection = pulp.LpProblem(\"Player selection model\", pulp.LpMaximize)\n",
    "\n",
    "#player_selection += [total_influence(keepers) * x[keepers] for keepers in possible_gk]\n",
    "player_selection += pulp.lpSum([total_influence(player,'influence_f') * g[player] for player in gk]\n",
    "                              +[total_influence(player,'influence_f') * d[player] for player in df] \n",
    "                              +[total_influence(player,'influence_f') * m[player] for player in md]\n",
    "                              +[total_influence(player,'influence_f') * a[player] for player in at]), 'Max influence'"
   ]
  },
  {
   "cell_type": "code",
   "execution_count": 101,
   "metadata": {
    "collapsed": true
   },
   "outputs": [],
   "source": [
    "# Get right number of sets, 1 for each position\n",
    "player_selection += pulp.lpSum([g[player] for player in gk]) == 1, \"Maximum_number_of_gks\"\n",
    "player_selection += pulp.lpSum([d[player] for player in df]) == 1, \"Maximum_number_of_dfs\"\n",
    "player_selection += pulp.lpSum([m[player] for player in md]) == 1, \"Maximum_number_of_mds\"\n",
    "player_selection += pulp.lpSum([a[player] for player in at]) == 1, \"Maximum_number_of_ats\""
   ]
  },
  {
   "cell_type": "code",
   "execution_count": null,
   "metadata": {
    "collapsed": true
   },
   "outputs": [],
   "source": [
    "#Budget constraint\n",
    "\n",
    "player_selection += pulp.lpSum([total_price(player) * g[player] for player in gk]\n",
    "                              +[total_price(player) * d[player] for player in df] \n",
    "                              +[total_price(player) * m[player] for player in md]\n",
    "                              +[total_price(player) * a[player] for player in at]) <= 1000, 'Max influence'"
   ]
  },
  {
   "cell_type": "code",
   "execution_count": null,
   "metadata": {
    "collapsed": true
   },
   "outputs": [],
   "source": []
  },
  {
   "cell_type": "code",
   "execution_count": 102,
   "metadata": {
    "collapsed": false
   },
   "outputs": [
    {
     "data": {
      "text/plain": [
       "1"
      ]
     },
     "execution_count": 102,
     "metadata": {},
     "output_type": "execute_result"
    }
   ],
   "source": [
    "player_selection.solve()"
   ]
  },
  {
   "cell_type": "code",
   "execution_count": 103,
   "metadata": {
    "collapsed": false
   },
   "outputs": [
    {
     "data": {
      "text/plain": [
       "'Optimal'"
      ]
     },
     "execution_count": 103,
     "metadata": {},
     "output_type": "execute_result"
    }
   ],
   "source": [
    "pulp.LpStatus[player_selection.status]"
   ]
  },
  {
   "cell_type": "code",
   "execution_count": 104,
   "metadata": {
    "collapsed": false
   },
   "outputs": [
    {
     "name": "stdout",
     "output_type": "stream",
     "text": [
      "(213, 282)\n",
      "11    Schmeichel\n",
      "Name: Name, dtype: object\n",
      "0    De Gea\n",
      "Name: Name, dtype: object\n"
     ]
    }
   ],
   "source": [
    "for team in gk:\n",
    "    if g[team].value() == 1.0:\n",
    "        print(team)\n",
    "        print fpl_players[fpl_players['id']==team[0]]['Name']\n",
    "        print fpl_players[fpl_players['id']==team[-1]]['Name']  "
   ]
  },
  {
   "cell_type": "code",
   "execution_count": 106,
   "metadata": {
    "collapsed": false
   },
   "outputs": [
    {
     "name": "stdout",
     "output_type": "stream",
     "text": [
      "(286, 292, 291, 289, 215)\n",
      "149    Shaw\n",
      "Name: Name, dtype: object\n",
      "152    Lindelöf\n",
      "Name: Name, dtype: object\n",
      "119    Bailly\n",
      "Name: Name, dtype: object\n",
      "151    Darmian\n",
      "Name: Name, dtype: object\n",
      "207    Morgan\n",
      "Name: Name, dtype: object\n"
     ]
    }
   ],
   "source": [
    "for team in df:\n",
    "    if d[team].value() == 1.0:\n",
    "        print(team)\n",
    "        print fpl_players[fpl_players['id']==team[0]]['Name']\n",
    "        print fpl_players[fpl_players['id']==team[1]]['Name']  \n",
    "        print fpl_players[fpl_players['id']==team[2]]['Name']  \n",
    "        print fpl_players[fpl_players['id']==team[3]]['Name'] \n",
    "        print fpl_players[fpl_players['id']==team[4]]['Name']  "
   ]
  },
  {
   "cell_type": "code",
   "execution_count": 107,
   "metadata": {
    "collapsed": false
   },
   "outputs": [
    {
     "name": "stdout",
     "output_type": "stream",
     "text": [
      "(302, 297, 227, 231, 233)\n",
      "281    Pogba\n",
      "Name: Name, dtype: object\n",
      "306    Mata\n",
      "Name: Name, dtype: object\n",
      "397    Ndidi\n",
      "Name: Name, dtype: object\n",
      "399    Silva\n",
      "Name: Name, dtype: object\n",
      "304    Maddison\n",
      "Name: Name, dtype: object\n"
     ]
    }
   ],
   "source": [
    "for team in md:\n",
    "    if m[team].value() == 1.0:\n",
    "        print(team)\n",
    "        print fpl_players[fpl_players['id']==team[0]]['Name']\n",
    "        print fpl_players[fpl_players['id']==team[1]]['Name']  \n",
    "        print fpl_players[fpl_players['id']==team[2]]['Name']  \n",
    "        print fpl_players[fpl_players['id']==team[3]]['Name'] \n",
    "        print fpl_players[fpl_players['id']==team[4]]['Name']  "
   ]
  },
  {
   "cell_type": "code",
   "execution_count": 108,
   "metadata": {
    "collapsed": false
   },
   "outputs": [
    {
     "name": "stdout",
     "output_type": "stream",
     "text": [
      "(234, 305, 306)\n",
      "479    Vardy\n",
      "Name: Name, dtype: object\n",
      "483    Rashford\n",
      "Name: Name, dtype: object\n",
      "474    Lukaku\n",
      "Name: Name, dtype: object\n"
     ]
    }
   ],
   "source": [
    "for team in at:\n",
    "    if a[team].value() == 1.0:\n",
    "        print(team)\n",
    "        print fpl_players[fpl_players['id']==team[0]]['Name']\n",
    "        print fpl_players[fpl_players['id']==team[1]]['Name']  \n",
    "        print fpl_players[fpl_players['id']==team[2]]['Name']  "
   ]
  },
  {
   "cell_type": "markdown",
   "metadata": {},
   "source": [
    "# Get output"
   ]
  },
  {
   "cell_type": "code",
   "execution_count": 1101,
   "metadata": {
    "collapsed": false
   },
   "outputs": [
    {
     "data": {
      "text/plain": [
       "1"
      ]
     },
     "execution_count": 1101,
     "metadata": {},
     "output_type": "execute_result"
    }
   ],
   "source": [
    "player_choice.solve()"
   ]
  },
  {
   "cell_type": "code",
   "execution_count": 1129,
   "metadata": {
    "collapsed": false
   },
   "outputs": [],
   "source": [
    "for v in player_choice.variables():\n",
    "    if v.varValue > 0:\n",
    "        print(fpl_players[fpl_players['id']==int(v.name.split('_')[-1])]['position'],\":\",\n",
    "            fpl_players[fpl_players['id']==int(v.name.split('_')[-1])]['Name'], \"=\", v.varValue)\n",
    "    else:\n",
    "        continue\n"
   ]
  },
  {
   "cell_type": "code",
   "execution_count": null,
   "metadata": {
    "collapsed": true
   },
   "outputs": [],
   "source": []
  },
  {
   "cell_type": "code",
   "execution_count": null,
   "metadata": {
    "collapsed": true
   },
   "outputs": [],
   "source": []
  },
  {
   "cell_type": "code",
   "execution_count": null,
   "metadata": {
    "collapsed": true
   },
   "outputs": [],
   "source": []
  },
  {
   "cell_type": "code",
   "execution_count": 172,
   "metadata": {
    "collapsed": false
   },
   "outputs": [],
   "source": [
    "items = [(\"a\", 5),\n",
    "         (\"b\", 6),\n",
    "         (\"c\", 7),\n",
    "         (\"d\", 32),\n",
    "         (\"e\", 2),\n",
    "         (\"f\", 32),\n",
    "         (\"g\", 5),\n",
    "         (\"h\", 7),\n",
    "         (\"i\", 9),\n",
    "         (\"k\", 12),\n",
    "         (\"l\", 11),\n",
    "         (\"m\", 1),\n",
    "         (\"n\", 2)]\n",
    "\n",
    "itemCount = len(items)\n",
    "\n",
    "# Max number of bins allowed.\n",
    "maxBins = 32\n",
    "\n",
    "# Bin Size\n",
    "binCapacity = 32\n",
    "\n",
    "\n",
    "\n",
    "# Indicator variable assigned 1 when the bin is used.\n",
    "y = pulp.LpVariable.dicts('BinUsed', range(maxBins),\n",
    "                            lowBound = 0,\n",
    "                            upBound = 1,\n",
    "                            cat = pulp.LpInteger)\n",
    "\n",
    "# An indicator variable that is assigned 1 when item is placed into binNum\n",
    "possible_ItemInBin = [(itemTuple, binNum) for itemTuple in items\n",
    "                                            for binNum in range(maxBins)]"
   ]
  },
  {
   "cell_type": "code",
   "execution_count": null,
   "metadata": {
    "collapsed": true
   },
   "outputs": [],
   "source": [
    "possible_ItemInBin = [(itemTuple, binNum) for itemTuple in items\n",
    "                                            for binNum in range(maxBins)]"
   ]
  },
  {
   "cell_type": "code",
   "execution_count": 173,
   "metadata": {
    "collapsed": false
   },
   "outputs": [
    {
     "data": {
      "text/plain": [
       "[(('a', 5), 0),\n",
       " (('a', 5), 1),\n",
       " (('a', 5), 2),\n",
       " (('a', 5), 3),\n",
       " (('a', 5), 4),\n",
       " (('a', 5), 5),\n",
       " (('a', 5), 6),\n",
       " (('a', 5), 7),\n",
       " (('a', 5), 8),\n",
       " (('a', 5), 9),\n",
       " (('a', 5), 10),\n",
       " (('a', 5), 11),\n",
       " (('a', 5), 12),\n",
       " (('a', 5), 13),\n",
       " (('a', 5), 14),\n",
       " (('a', 5), 15),\n",
       " (('a', 5), 16),\n",
       " (('a', 5), 17),\n",
       " (('a', 5), 18),\n",
       " (('a', 5), 19),\n",
       " (('a', 5), 20),\n",
       " (('a', 5), 21),\n",
       " (('a', 5), 22),\n",
       " (('a', 5), 23),\n",
       " (('a', 5), 24),\n",
       " (('a', 5), 25),\n",
       " (('a', 5), 26),\n",
       " (('a', 5), 27),\n",
       " (('a', 5), 28),\n",
       " (('a', 5), 29),\n",
       " (('a', 5), 30),\n",
       " (('a', 5), 31),\n",
       " (('b', 6), 0),\n",
       " (('b', 6), 1),\n",
       " (('b', 6), 2),\n",
       " (('b', 6), 3),\n",
       " (('b', 6), 4),\n",
       " (('b', 6), 5),\n",
       " (('b', 6), 6),\n",
       " (('b', 6), 7),\n",
       " (('b', 6), 8),\n",
       " (('b', 6), 9),\n",
       " (('b', 6), 10),\n",
       " (('b', 6), 11),\n",
       " (('b', 6), 12),\n",
       " (('b', 6), 13),\n",
       " (('b', 6), 14),\n",
       " (('b', 6), 15),\n",
       " (('b', 6), 16),\n",
       " (('b', 6), 17),\n",
       " (('b', 6), 18),\n",
       " (('b', 6), 19),\n",
       " (('b', 6), 20),\n",
       " (('b', 6), 21),\n",
       " (('b', 6), 22),\n",
       " (('b', 6), 23),\n",
       " (('b', 6), 24),\n",
       " (('b', 6), 25),\n",
       " (('b', 6), 26),\n",
       " (('b', 6), 27),\n",
       " (('b', 6), 28),\n",
       " (('b', 6), 29),\n",
       " (('b', 6), 30),\n",
       " (('b', 6), 31),\n",
       " (('c', 7), 0),\n",
       " (('c', 7), 1),\n",
       " (('c', 7), 2),\n",
       " (('c', 7), 3),\n",
       " (('c', 7), 4),\n",
       " (('c', 7), 5),\n",
       " (('c', 7), 6),\n",
       " (('c', 7), 7),\n",
       " (('c', 7), 8),\n",
       " (('c', 7), 9),\n",
       " (('c', 7), 10),\n",
       " (('c', 7), 11),\n",
       " (('c', 7), 12),\n",
       " (('c', 7), 13),\n",
       " (('c', 7), 14),\n",
       " (('c', 7), 15),\n",
       " (('c', 7), 16),\n",
       " (('c', 7), 17),\n",
       " (('c', 7), 18),\n",
       " (('c', 7), 19),\n",
       " (('c', 7), 20),\n",
       " (('c', 7), 21),\n",
       " (('c', 7), 22),\n",
       " (('c', 7), 23),\n",
       " (('c', 7), 24),\n",
       " (('c', 7), 25),\n",
       " (('c', 7), 26),\n",
       " (('c', 7), 27),\n",
       " (('c', 7), 28),\n",
       " (('c', 7), 29),\n",
       " (('c', 7), 30),\n",
       " (('c', 7), 31),\n",
       " (('d', 32), 0),\n",
       " (('d', 32), 1),\n",
       " (('d', 32), 2),\n",
       " (('d', 32), 3),\n",
       " (('d', 32), 4),\n",
       " (('d', 32), 5),\n",
       " (('d', 32), 6),\n",
       " (('d', 32), 7),\n",
       " (('d', 32), 8),\n",
       " (('d', 32), 9),\n",
       " (('d', 32), 10),\n",
       " (('d', 32), 11),\n",
       " (('d', 32), 12),\n",
       " (('d', 32), 13),\n",
       " (('d', 32), 14),\n",
       " (('d', 32), 15),\n",
       " (('d', 32), 16),\n",
       " (('d', 32), 17),\n",
       " (('d', 32), 18),\n",
       " (('d', 32), 19),\n",
       " (('d', 32), 20),\n",
       " (('d', 32), 21),\n",
       " (('d', 32), 22),\n",
       " (('d', 32), 23),\n",
       " (('d', 32), 24),\n",
       " (('d', 32), 25),\n",
       " (('d', 32), 26),\n",
       " (('d', 32), 27),\n",
       " (('d', 32), 28),\n",
       " (('d', 32), 29),\n",
       " (('d', 32), 30),\n",
       " (('d', 32), 31),\n",
       " (('e', 2), 0),\n",
       " (('e', 2), 1),\n",
       " (('e', 2), 2),\n",
       " (('e', 2), 3),\n",
       " (('e', 2), 4),\n",
       " (('e', 2), 5),\n",
       " (('e', 2), 6),\n",
       " (('e', 2), 7),\n",
       " (('e', 2), 8),\n",
       " (('e', 2), 9),\n",
       " (('e', 2), 10),\n",
       " (('e', 2), 11),\n",
       " (('e', 2), 12),\n",
       " (('e', 2), 13),\n",
       " (('e', 2), 14),\n",
       " (('e', 2), 15),\n",
       " (('e', 2), 16),\n",
       " (('e', 2), 17),\n",
       " (('e', 2), 18),\n",
       " (('e', 2), 19),\n",
       " (('e', 2), 20),\n",
       " (('e', 2), 21),\n",
       " (('e', 2), 22),\n",
       " (('e', 2), 23),\n",
       " (('e', 2), 24),\n",
       " (('e', 2), 25),\n",
       " (('e', 2), 26),\n",
       " (('e', 2), 27),\n",
       " (('e', 2), 28),\n",
       " (('e', 2), 29),\n",
       " (('e', 2), 30),\n",
       " (('e', 2), 31),\n",
       " (('f', 32), 0),\n",
       " (('f', 32), 1),\n",
       " (('f', 32), 2),\n",
       " (('f', 32), 3),\n",
       " (('f', 32), 4),\n",
       " (('f', 32), 5),\n",
       " (('f', 32), 6),\n",
       " (('f', 32), 7),\n",
       " (('f', 32), 8),\n",
       " (('f', 32), 9),\n",
       " (('f', 32), 10),\n",
       " (('f', 32), 11),\n",
       " (('f', 32), 12),\n",
       " (('f', 32), 13),\n",
       " (('f', 32), 14),\n",
       " (('f', 32), 15),\n",
       " (('f', 32), 16),\n",
       " (('f', 32), 17),\n",
       " (('f', 32), 18),\n",
       " (('f', 32), 19),\n",
       " (('f', 32), 20),\n",
       " (('f', 32), 21),\n",
       " (('f', 32), 22),\n",
       " (('f', 32), 23),\n",
       " (('f', 32), 24),\n",
       " (('f', 32), 25),\n",
       " (('f', 32), 26),\n",
       " (('f', 32), 27),\n",
       " (('f', 32), 28),\n",
       " (('f', 32), 29),\n",
       " (('f', 32), 30),\n",
       " (('f', 32), 31),\n",
       " (('g', 5), 0),\n",
       " (('g', 5), 1),\n",
       " (('g', 5), 2),\n",
       " (('g', 5), 3),\n",
       " (('g', 5), 4),\n",
       " (('g', 5), 5),\n",
       " (('g', 5), 6),\n",
       " (('g', 5), 7),\n",
       " (('g', 5), 8),\n",
       " (('g', 5), 9),\n",
       " (('g', 5), 10),\n",
       " (('g', 5), 11),\n",
       " (('g', 5), 12),\n",
       " (('g', 5), 13),\n",
       " (('g', 5), 14),\n",
       " (('g', 5), 15),\n",
       " (('g', 5), 16),\n",
       " (('g', 5), 17),\n",
       " (('g', 5), 18),\n",
       " (('g', 5), 19),\n",
       " (('g', 5), 20),\n",
       " (('g', 5), 21),\n",
       " (('g', 5), 22),\n",
       " (('g', 5), 23),\n",
       " (('g', 5), 24),\n",
       " (('g', 5), 25),\n",
       " (('g', 5), 26),\n",
       " (('g', 5), 27),\n",
       " (('g', 5), 28),\n",
       " (('g', 5), 29),\n",
       " (('g', 5), 30),\n",
       " (('g', 5), 31),\n",
       " (('h', 7), 0),\n",
       " (('h', 7), 1),\n",
       " (('h', 7), 2),\n",
       " (('h', 7), 3),\n",
       " (('h', 7), 4),\n",
       " (('h', 7), 5),\n",
       " (('h', 7), 6),\n",
       " (('h', 7), 7),\n",
       " (('h', 7), 8),\n",
       " (('h', 7), 9),\n",
       " (('h', 7), 10),\n",
       " (('h', 7), 11),\n",
       " (('h', 7), 12),\n",
       " (('h', 7), 13),\n",
       " (('h', 7), 14),\n",
       " (('h', 7), 15),\n",
       " (('h', 7), 16),\n",
       " (('h', 7), 17),\n",
       " (('h', 7), 18),\n",
       " (('h', 7), 19),\n",
       " (('h', 7), 20),\n",
       " (('h', 7), 21),\n",
       " (('h', 7), 22),\n",
       " (('h', 7), 23),\n",
       " (('h', 7), 24),\n",
       " (('h', 7), 25),\n",
       " (('h', 7), 26),\n",
       " (('h', 7), 27),\n",
       " (('h', 7), 28),\n",
       " (('h', 7), 29),\n",
       " (('h', 7), 30),\n",
       " (('h', 7), 31),\n",
       " (('i', 9), 0),\n",
       " (('i', 9), 1),\n",
       " (('i', 9), 2),\n",
       " (('i', 9), 3),\n",
       " (('i', 9), 4),\n",
       " (('i', 9), 5),\n",
       " (('i', 9), 6),\n",
       " (('i', 9), 7),\n",
       " (('i', 9), 8),\n",
       " (('i', 9), 9),\n",
       " (('i', 9), 10),\n",
       " (('i', 9), 11),\n",
       " (('i', 9), 12),\n",
       " (('i', 9), 13),\n",
       " (('i', 9), 14),\n",
       " (('i', 9), 15),\n",
       " (('i', 9), 16),\n",
       " (('i', 9), 17),\n",
       " (('i', 9), 18),\n",
       " (('i', 9), 19),\n",
       " (('i', 9), 20),\n",
       " (('i', 9), 21),\n",
       " (('i', 9), 22),\n",
       " (('i', 9), 23),\n",
       " (('i', 9), 24),\n",
       " (('i', 9), 25),\n",
       " (('i', 9), 26),\n",
       " (('i', 9), 27),\n",
       " (('i', 9), 28),\n",
       " (('i', 9), 29),\n",
       " (('i', 9), 30),\n",
       " (('i', 9), 31),\n",
       " (('k', 12), 0),\n",
       " (('k', 12), 1),\n",
       " (('k', 12), 2),\n",
       " (('k', 12), 3),\n",
       " (('k', 12), 4),\n",
       " (('k', 12), 5),\n",
       " (('k', 12), 6),\n",
       " (('k', 12), 7),\n",
       " (('k', 12), 8),\n",
       " (('k', 12), 9),\n",
       " (('k', 12), 10),\n",
       " (('k', 12), 11),\n",
       " (('k', 12), 12),\n",
       " (('k', 12), 13),\n",
       " (('k', 12), 14),\n",
       " (('k', 12), 15),\n",
       " (('k', 12), 16),\n",
       " (('k', 12), 17),\n",
       " (('k', 12), 18),\n",
       " (('k', 12), 19),\n",
       " (('k', 12), 20),\n",
       " (('k', 12), 21),\n",
       " (('k', 12), 22),\n",
       " (('k', 12), 23),\n",
       " (('k', 12), 24),\n",
       " (('k', 12), 25),\n",
       " (('k', 12), 26),\n",
       " (('k', 12), 27),\n",
       " (('k', 12), 28),\n",
       " (('k', 12), 29),\n",
       " (('k', 12), 30),\n",
       " (('k', 12), 31),\n",
       " (('l', 11), 0),\n",
       " (('l', 11), 1),\n",
       " (('l', 11), 2),\n",
       " (('l', 11), 3),\n",
       " (('l', 11), 4),\n",
       " (('l', 11), 5),\n",
       " (('l', 11), 6),\n",
       " (('l', 11), 7),\n",
       " (('l', 11), 8),\n",
       " (('l', 11), 9),\n",
       " (('l', 11), 10),\n",
       " (('l', 11), 11),\n",
       " (('l', 11), 12),\n",
       " (('l', 11), 13),\n",
       " (('l', 11), 14),\n",
       " (('l', 11), 15),\n",
       " (('l', 11), 16),\n",
       " (('l', 11), 17),\n",
       " (('l', 11), 18),\n",
       " (('l', 11), 19),\n",
       " (('l', 11), 20),\n",
       " (('l', 11), 21),\n",
       " (('l', 11), 22),\n",
       " (('l', 11), 23),\n",
       " (('l', 11), 24),\n",
       " (('l', 11), 25),\n",
       " (('l', 11), 26),\n",
       " (('l', 11), 27),\n",
       " (('l', 11), 28),\n",
       " (('l', 11), 29),\n",
       " (('l', 11), 30),\n",
       " (('l', 11), 31),\n",
       " (('m', 1), 0),\n",
       " (('m', 1), 1),\n",
       " (('m', 1), 2),\n",
       " (('m', 1), 3),\n",
       " (('m', 1), 4),\n",
       " (('m', 1), 5),\n",
       " (('m', 1), 6),\n",
       " (('m', 1), 7),\n",
       " (('m', 1), 8),\n",
       " (('m', 1), 9),\n",
       " (('m', 1), 10),\n",
       " (('m', 1), 11),\n",
       " (('m', 1), 12),\n",
       " (('m', 1), 13),\n",
       " (('m', 1), 14),\n",
       " (('m', 1), 15),\n",
       " (('m', 1), 16),\n",
       " (('m', 1), 17),\n",
       " (('m', 1), 18),\n",
       " (('m', 1), 19),\n",
       " (('m', 1), 20),\n",
       " (('m', 1), 21),\n",
       " (('m', 1), 22),\n",
       " (('m', 1), 23),\n",
       " (('m', 1), 24),\n",
       " (('m', 1), 25),\n",
       " (('m', 1), 26),\n",
       " (('m', 1), 27),\n",
       " (('m', 1), 28),\n",
       " (('m', 1), 29),\n",
       " (('m', 1), 30),\n",
       " (('m', 1), 31),\n",
       " (('n', 2), 0),\n",
       " (('n', 2), 1),\n",
       " (('n', 2), 2),\n",
       " (('n', 2), 3),\n",
       " (('n', 2), 4),\n",
       " (('n', 2), 5),\n",
       " (('n', 2), 6),\n",
       " (('n', 2), 7),\n",
       " (('n', 2), 8),\n",
       " (('n', 2), 9),\n",
       " (('n', 2), 10),\n",
       " (('n', 2), 11),\n",
       " (('n', 2), 12),\n",
       " (('n', 2), 13),\n",
       " (('n', 2), 14),\n",
       " (('n', 2), 15),\n",
       " (('n', 2), 16),\n",
       " (('n', 2), 17),\n",
       " (('n', 2), 18),\n",
       " (('n', 2), 19),\n",
       " (('n', 2), 20),\n",
       " (('n', 2), 21),\n",
       " (('n', 2), 22),\n",
       " (('n', 2), 23),\n",
       " (('n', 2), 24),\n",
       " (('n', 2), 25),\n",
       " (('n', 2), 26),\n",
       " (('n', 2), 27),\n",
       " (('n', 2), 28),\n",
       " (('n', 2), 29),\n",
       " (('n', 2), 30),\n",
       " (('n', 2), 31)]"
      ]
     },
     "execution_count": 173,
     "metadata": {},
     "output_type": "execute_result"
    }
   ],
   "source": [
    "possible_ItemInBin"
   ]
  }
 ],
 "metadata": {
  "kernelspec": {
   "display_name": "Python 2",
   "language": "python",
   "name": "python2"
  },
  "language_info": {
   "codemirror_mode": {
    "name": "ipython",
    "version": 2
   },
   "file_extension": ".py",
   "mimetype": "text/x-python",
   "name": "python",
   "nbconvert_exporter": "python",
   "pygments_lexer": "ipython2",
   "version": "2.7.14"
  }
 },
 "nbformat": 4,
 "nbformat_minor": 2
}
