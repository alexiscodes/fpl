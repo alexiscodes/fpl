{
 "cells": [
  {
   "cell_type": "code",
   "execution_count": 1,
   "metadata": {
    "collapsed": true
   },
   "outputs": [],
   "source": [
    "import pandas as pd"
   ]
  },
  {
   "cell_type": "code",
   "execution_count": 6,
   "metadata": {
    "collapsed": false
   },
   "outputs": [],
   "source": [
    "from bs4 import BeautifulSoup\n",
    "import requests\n",
    "from lxml import html\n",
    "import json\n",
    "import numpy as np"
   ]
  },
  {
   "cell_type": "markdown",
   "metadata": {},
   "source": [
    "# Get Players"
   ]
  },
  {
   "cell_type": "code",
   "execution_count": 7,
   "metadata": {
    "collapsed": true
   },
   "outputs": [],
   "source": [
    "dump = requests.get('https://fantasy.premierleague.com/drf/bootstrap')\n",
    "load = dump.text"
   ]
  },
  {
   "cell_type": "code",
   "execution_count": 8,
   "metadata": {
    "collapsed": true
   },
   "outputs": [],
   "source": [
    "json_dump = json.loads(load)"
   ]
  },
  {
   "cell_type": "code",
   "execution_count": 10,
   "metadata": {
    "collapsed": true
   },
   "outputs": [],
   "source": [
    "datapoints = ['id', 'web_name', 'first_name', 'total_points', 'event_points', 'now_cost','cost_change_start', \n",
    "              'selected_by_percent', 'form','ep_next', \n",
    "              'chance_of_playing_next_round','minutes', 'bonus', 'goals_scored', 'assists', 'clean_sheets', \n",
    "              'goals_conceded', 'bps', 'influence', 'creativity', 'threat', 'ict_index', 'ea_index', 'news']\n",
    "\n",
    "player_list = []\n",
    "\n",
    "for player in range(0, len(json_dump['elements'])):\n",
    "    stats = [json_dump['elements'][player][x] for x in datapoints]\n",
    "    player_list.append(stats)\n",
    "    \n",
    "player_df = pd.DataFrame(player_list)\n",
    "\n",
    "# Rename columns\n",
    "\n",
    "player_df.columns = datapoints"
   ]
  },
  {
   "cell_type": "markdown",
   "metadata": {},
   "source": [
    "# Get Positions"
   ]
  },
  {
   "cell_type": "code",
   "execution_count": 11,
   "metadata": {
    "collapsed": true
   },
   "outputs": [],
   "source": [
    "players = requests.get('https://fantasy.premierleague.com/player-list/')\n",
    "totals = players.text\n",
    "total_soup = BeautifulSoup(totals)"
   ]
  },
  {
   "cell_type": "code",
   "execution_count": 12,
   "metadata": {
    "collapsed": true
   },
   "outputs": [],
   "source": [
    "#Get all player names\n",
    "\n",
    "player_names = total_soup.find_all('td')[::4]\n",
    "\n",
    "players = []\n",
    "\n",
    "for player in player_names:\n",
    "    name = player.get_text()\n",
    "    players.append(name)\n",
    "\n",
    "player_name_df = pd.DataFrame({\"Name\": players})"
   ]
  },
  {
   "cell_type": "code",
   "execution_count": 13,
   "metadata": {
    "collapsed": true
   },
   "outputs": [],
   "source": [
    "# Positions for first and last player in each field\n",
    "\n",
    "for i, e in enumerate(player_name_df['Name']):\n",
    "    if e == 'De Gea':   \n",
    "        gk=i\n",
    "    if e == 'Azpilicueta':   \n",
    "        defe=i\n",
    "    if e == 'Salah':   \n",
    "        mid=i\n",
    "    if e == 'Kane':   \n",
    "        att=i"
   ]
  },
  {
   "cell_type": "code",
   "execution_count": 14,
   "metadata": {
    "collapsed": false
   },
   "outputs": [
    {
     "name": "stderr",
     "output_type": "stream",
     "text": [
      "/Users/alexis.becker/anaconda/envs/py27/lib/python2.7/site-packages/ipykernel_launcher.py:5: SettingWithCopyWarning: \n",
      "A value is trying to be set on a copy of a slice from a DataFrame.\n",
      "Try using .loc[row_indexer,col_indexer] = value instead\n",
      "\n",
      "See the caveats in the documentation: http://pandas.pydata.org/pandas-docs/stable/indexing.html#indexing-view-versus-copy\n",
      "  \"\"\"\n",
      "/Users/alexis.becker/anaconda/envs/py27/lib/python2.7/site-packages/ipykernel_launcher.py:6: SettingWithCopyWarning: \n",
      "A value is trying to be set on a copy of a slice from a DataFrame.\n",
      "Try using .loc[row_indexer,col_indexer] = value instead\n",
      "\n",
      "See the caveats in the documentation: http://pandas.pydata.org/pandas-docs/stable/indexing.html#indexing-view-versus-copy\n",
      "  \n",
      "/Users/alexis.becker/anaconda/envs/py27/lib/python2.7/site-packages/ipykernel_launcher.py:7: SettingWithCopyWarning: \n",
      "A value is trying to be set on a copy of a slice from a DataFrame.\n",
      "Try using .loc[row_indexer,col_indexer] = value instead\n",
      "\n",
      "See the caveats in the documentation: http://pandas.pydata.org/pandas-docs/stable/indexing.html#indexing-view-versus-copy\n",
      "  import sys\n",
      "/Users/alexis.becker/anaconda/envs/py27/lib/python2.7/site-packages/ipykernel_launcher.py:8: SettingWithCopyWarning: \n",
      "A value is trying to be set on a copy of a slice from a DataFrame.\n",
      "Try using .loc[row_indexer,col_indexer] = value instead\n",
      "\n",
      "See the caveats in the documentation: http://pandas.pydata.org/pandas-docs/stable/indexing.html#indexing-view-versus-copy\n",
      "  \n"
     ]
    }
   ],
   "source": [
    "#Populate df with positions\n",
    "player_name_df['position']=''\n",
    "\n",
    "\n",
    "player_name_df.iloc[gk:(defe)]['position']='Goalkeeper'\n",
    "player_name_df.iloc[defe:(mid)]['position']='Defender'\n",
    "player_name_df.iloc[mid:(att)]['position']='Midfielder'\n",
    "player_name_df.iloc[att:]['position']='Attacker'"
   ]
  },
  {
   "cell_type": "code",
   "execution_count": 15,
   "metadata": {
    "collapsed": true
   },
   "outputs": [],
   "source": [
    "fpl_players =  pd.merge(player_name_df, player_df, left_on='Name', right_on='web_name')"
   ]
  },
  {
   "cell_type": "code",
   "execution_count": 16,
   "metadata": {
    "collapsed": false
   },
   "outputs": [
    {
     "name": "stderr",
     "output_type": "stream",
     "text": [
      "/Users/alexis.becker/anaconda/envs/py27/lib/python2.7/site-packages/pandas/core/algorithms.py:410: UnicodeWarning: Unicode equal comparison failed to convert both arguments to Unicode - interpreting them as being unequal\n",
      "  f = lambda x, y: htable.ismember_object(x, values)\n"
     ]
    }
   ],
   "source": [
    "# Deal with duplicates\n",
    "\n",
    "duplicats = fpl_players['Name'].value_counts()>1\n",
    "\n",
    "dup_names = fpl_players['Name'].isin(['McCarthy','Ward','Bennett','Davies','Gray','Long','Simpson','Reid','Sánchez','McCartyh','Stephens', 'Pereira', 'Murphy', 'Williams'])\n",
    "\n",
    "\n",
    "fpl_players.drop(fpl_players[dup_names].index, inplace=True)"
   ]
  },
  {
   "cell_type": "markdown",
   "metadata": {},
   "source": [
    "# Optimal Choice"
   ]
  },
  {
   "cell_type": "code",
   "execution_count": 17,
   "metadata": {
    "collapsed": true
   },
   "outputs": [],
   "source": [
    "import pulp"
   ]
  },
  {
   "cell_type": "code",
   "execution_count": 18,
   "metadata": {
    "collapsed": true
   },
   "outputs": [],
   "source": [
    "#Make variables\n",
    "\n",
    "#Player variables by position\n",
    "threat = fpl_players[\"threat\"]\n",
    "influence = fpl_players[['id',\"influence\"]]\n",
    "\n",
    "players = range(0, len(fpl_players))\n",
    "\n",
    "\n",
    "gks = fpl_players[fpl_players['position']=='Goalkeeper']\n",
    "defs = fpl_players[fpl_players['position']=='Defender']\n",
    "mds = fpl_players[fpl_players['position']=='Midfielder']\n",
    "ats = fpl_players[fpl_players['position']=='Attacker']\n",
    "\n",
    "rgks=range(0, len(gks))\n",
    "rdefs=range(0, len(defs))\n",
    "rmds=range(0, len(mds))\n",
    "rats=range(0, len(ats))"
   ]
  },
  {
   "cell_type": "code",
   "execution_count": 19,
   "metadata": {
    "collapsed": true
   },
   "outputs": [],
   "source": [
    "# Dummy GK id\n",
    "\n",
    "test = gks['id']"
   ]
  },
  {
   "cell_type": "code",
   "execution_count": 25,
   "metadata": {
    "collapsed": true
   },
   "outputs": [],
   "source": [
    "# Formula to evaluate\n",
    "\n",
    "def total_influence(player):\n",
    "    \"\"\"Find the happiness of the table - \n",
    "    by calculating the combined influence between the players\"\"\"\n",
    "    return sum(fpl_players[fpl_players['id']==player[0]]['influence'].astype(float),fpl_players[fpl_players['id']==player[-1]]['influence'].astype(float))"
   ]
  },
  {
   "cell_type": "code",
   "execution_count": 20,
   "metadata": {
    "collapsed": true
   },
   "outputs": [],
   "source": [
    "#Set constraint of variables\n",
    "max_gks = 2\n",
    "max_money = 1000\n",
    "\n",
    "#create list of all possible tables https://www.ce.teiep.gr/e-class/modules/document/file.php/216/PAPERS/2009.%20Pulp%20For%20Python%20Programmers.pdf\n",
    "possible_gks = [tuple(c) for c in pulp.allcombinations(gks['id'], max_gks)]\n",
    "\n",
    "x = pulp.LpVariable('x', upBound=max_money, cat='Continuous')\n",
    "\n",
    "# Look for all players used\n",
    "y = pulp.LpVariable.dicts('keeper_used', players, lowBound=0,upBound=1, cat=pulp.LpInteger)\n",
    "\n",
    "#Indicator variable, showing if player been used\n",
    "g = pulp.LpVariable.dicts('keeper_used', test, lowBound=0,upBound=1, cat=pulp.LpInteger)\n",
    "#create a binary variable to state that a player combo is used\n",
    "gu = pulp.LpVariable.dicts('gks', possible_gks, lowBound = 0, upBound = 1,cat = pulp.LpInteger)\n",
    "#d = pulp.LpVariable.dicts('d', rdefs, 0,1, pulp.LpInteger)\n",
    "#m = pulp.LpVariable.dicts('m', rmds, 0,1, pulp.LpInteger)\n",
    "#a = pulp.LpVariable.dicts('a', rats, 0,1, pulp.LpInteger)"
   ]
  },
  {
   "cell_type": "code",
   "execution_count": 26,
   "metadata": {
    "collapsed": true
   },
   "outputs": [],
   "source": [
    "#Create optimisation problem\n",
    "\n",
    "player_choice = pulp.LpProblem(\"Player choice model\", pulp.LpMaximize)\n",
    "\n",
    "player_choice += pulp.lpSum([ y[player]*\n",
    "                             #influence.loc[influence['id']==player]['influence'].astype(float) \n",
    "                             float(influence.iloc[player]['influence']) \n",
    "                             for player in players])"
   ]
  },
  {
   "cell_type": "code",
   "execution_count": 29,
   "metadata": {
    "collapsed": true
   },
   "outputs": [],
   "source": [
    "#Create Constraints\n",
    "\n",
    "#Only 2 players\n",
    "player_choice += sum([y[player] for player in players]) <= 2"
   ]
  },
  {
   "cell_type": "code",
   "execution_count": 24,
   "metadata": {
    "collapsed": false
   },
   "outputs": [
    {
     "data": {
      "text/plain": [
       "1"
      ]
     },
     "execution_count": 24,
     "metadata": {},
     "output_type": "execute_result"
    }
   ],
   "source": [
    "seating_model += sum([x[table] for table in possible_tables]) <= max_tables,"
   ]
  },
  {
   "cell_type": "code",
   "execution_count": 35,
   "metadata": {
    "collapsed": false
   },
   "outputs": [
    {
     "name": "stdout",
     "output_type": "stream",
     "text": [
      "('keeper_used_211', '=', 1.0)\n",
      "('keeper_used_392', '=', 1.0)\n"
     ]
    }
   ],
   "source": [
    "#Solving \n",
    "player_choice.solve()\n",
    "\n",
    "for v in player_choice.variables():\n",
    "    if v.varValue > 0:\n",
    "        print(v.name, \"=\", v.varValue)\n",
    "    else:\n",
    "        continue"
   ]
  },
  {
   "cell_type": "markdown",
   "metadata": {},
   "source": [
    "# Iteration 2.0"
   ]
  },
  {
   "cell_type": "code",
   "execution_count": null,
   "metadata": {
    "collapsed": true
   },
   "outputs": [],
   "source": []
  }
 ],
 "metadata": {
  "kernelspec": {
   "display_name": "Python 2",
   "language": "python",
   "name": "python2"
  },
  "language_info": {
   "codemirror_mode": {
    "name": "ipython",
    "version": 2
   },
   "file_extension": ".py",
   "mimetype": "text/x-python",
   "name": "python",
   "nbconvert_exporter": "python",
   "pygments_lexer": "ipython2",
   "version": "2.7.14"
  }
 },
 "nbformat": 4,
 "nbformat_minor": 2
}
