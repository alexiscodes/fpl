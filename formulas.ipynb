{
 "cells": [
  {
   "cell_type": "code",
   "execution_count": 3,
   "metadata": {
    "collapsed": true
   },
   "outputs": [],
   "source": [
    "import pandas as pd"
   ]
  },
  {
   "cell_type": "code",
   "execution_count": 20,
   "metadata": {
    "collapsed": false
   },
   "outputs": [],
   "source": [
    "from bs4 import BeautifulSoup\n",
    "import requests\n",
    "from lxml import html\n",
    "import json\n",
    "import numpy as np\n",
    "\n",
    "import pulp\n",
    "import regex\n",
    "import pickle\n",
    "import itertools"
   ]
  },
  {
   "cell_type": "markdown",
   "metadata": {},
   "source": [
    "# Get Players"
   ]
  },
  {
   "cell_type": "code",
   "execution_count": 9,
   "metadata": {
    "collapsed": true
   },
   "outputs": [],
   "source": [
    "def get_players():\n",
    "    dump = requests.get('https://fantasy.premierleague.com/drf/bootstrap')\n",
    "    load = dump.text\n",
    "    json_dump = json.loads(load)\n",
    "    \n",
    "    datapoints = ['id', 'web_name', 'first_name', 'total_points', 'event_points', 'now_cost','cost_change_start', \n",
    "              'selected_by_percent', 'form','ep_next', \n",
    "              'chance_of_playing_next_round','minutes', 'bonus', 'goals_scored', 'assists', 'clean_sheets', \n",
    "              'goals_conceded', 'bps', 'influence', 'creativity', 'threat', 'ict_index', 'ea_index', 'news']\n",
    "\n",
    "    player_list = []\n",
    "\n",
    "    for player in range(0, len(json_dump['elements'])):\n",
    "        stats = [json_dump['elements'][player][x] for x in datapoints]\n",
    "        player_list.append(stats)\n",
    "    \n",
    "    player_df = pd.DataFrame(player_list)\n",
    "\n",
    "    # Rename columns\n",
    "    player_df.columns = datapoints\n",
    "    return player_df"
   ]
  },
  {
   "cell_type": "code",
   "execution_count": 12,
   "metadata": {
    "collapsed": true
   },
   "outputs": [],
   "source": [
    "player_df = get_players()"
   ]
  },
  {
   "cell_type": "markdown",
   "metadata": {},
   "source": [
    "# Get Positions"
   ]
  },
  {
   "cell_type": "code",
   "execution_count": 13,
   "metadata": {
    "collapsed": true
   },
   "outputs": [],
   "source": [
    "def add_positions(player_list):\n",
    "    players = requests.get('https://fantasy.premierleague.com/player-list/')\n",
    "    totals = players.text\n",
    "    total_soup = BeautifulSoup(totals)\n",
    "    \n",
    "    #Get all player names\n",
    "\n",
    "    player_names = total_soup.find_all('td')[::4]\n",
    "\n",
    "    players = []\n",
    "\n",
    "    for player in player_names:\n",
    "        name = player.get_text()\n",
    "        players.append(name)\n",
    "\n",
    "    player_name_df = pd.DataFrame({\"Name\": players})\n",
    "    \n",
    "    # Positions for first and last player in each field\n",
    "\n",
    "    for i, e in enumerate(player_name_df['Name']):\n",
    "        if e == 'De Gea':   \n",
    "            gk=i\n",
    "        if e == 'Azpilicueta':   \n",
    "            defe=i\n",
    "        if e == 'Salah':   \n",
    "            mid=i\n",
    "        if e == 'Kane':   \n",
    "            att=i\n",
    "            \n",
    "    #Populate df with positions\n",
    "    player_name_df['position']=''\n",
    "\n",
    "    player_name_df.loc[gk:(defe),'position']='Goalkeeper'\n",
    "    player_name_df.loc[defe:(mid),'position']='Defender'\n",
    "    player_name_df.loc[mid:(att),'position']='Midfielder'\n",
    "    player_name_df.loc[att:,'position']='Attacker'\n",
    "    \n",
    "    #Merge with df\n",
    "    fpl_players =  pd.merge(player_name_df, player_list, left_on='Name', right_on='web_name')\n",
    "    \n",
    "    return fpl_players"
   ]
  },
  {
   "cell_type": "code",
   "execution_count": 30,
   "metadata": {
    "collapsed": true
   },
   "outputs": [],
   "source": [
    "fpl_players = add_positions(player_df)"
   ]
  },
  {
   "cell_type": "code",
   "execution_count": 32,
   "metadata": {
    "collapsed": false,
    "scrolled": true
   },
   "outputs": [],
   "source": [
    "def remove_duplicates(player_list):\n",
    "    # Deal with duplicates\n",
    "\n",
    "    duplicats = player_list['Name'].value_counts()>1\n",
    "\n",
    "    dup_names = player_list['Name'].isin(['Rico', 'McCarthy','Ward','Bennett','Davies','Gray','Long','Simpson','Reid','Sánchez','McCartyh','Stephens', 'Pereira', 'Murphy', 'Williams'])\n",
    "    dup_ids = player_list['id'].isin([295, 359])\n",
    "\n",
    "\n",
    "    player_list.drop(player_list[dup_names].index, inplace=True)\n",
    "    player_list.drop(player_list[dup_ids].index, inplace=True)\n",
    "    return player_list"
   ]
  },
  {
   "cell_type": "code",
   "execution_count": 33,
   "metadata": {
    "collapsed": false
   },
   "outputs": [
    {
     "name": "stderr",
     "output_type": "stream",
     "text": [
      "/Users/alexis.becker/anaconda/envs/py27/lib/python2.7/site-packages/ipykernel_launcher.py:11: UserWarning: Boolean Series key will be reindexed to match DataFrame index.\n",
      "  # This is added back by InteractiveShellApp.init_path()\n"
     ]
    }
   ],
   "source": [
    "fpl_players = remove_duplicates(fpl_players)"
   ]
  },
  {
   "cell_type": "markdown",
   "metadata": {},
   "source": [
    "# Optimal Choice"
   ]
  },
  {
   "cell_type": "code",
   "execution_count": 36,
   "metadata": {
    "collapsed": false
   },
   "outputs": [],
   "source": [
    "def change_data(df):\n",
    "    \n",
    "    #Change format of df\n",
    "    df['influence_f'] = df['influence'].astype(float)\n",
    "    df['influence_f'].fillna(0, inplace=True)\n",
    "\n",
    "    df['bps_f'] = df['bps'].astype(float)\n",
    "    df['bps_f'].fillna(0, inplace=True)\n",
    "\n",
    "    df['now_cost_f'] = df['now_cost'].astype(float)\n",
    "    df['now_cost'].fillna(0, inplace=True)\n",
    "\n",
    "    df['ict_f'] = df['ict_index'].astype(float)\n",
    "    df['ict_f'].fillna(0, inplace=True)\n",
    "    \n",
    "    return df"
   ]
  },
  {
   "cell_type": "code",
   "execution_count": 37,
   "metadata": {
    "collapsed": false
   },
   "outputs": [],
   "source": [
    "fpl_players = change_data(fpl_players)"
   ]
  },
  {
   "cell_type": "markdown",
   "metadata": {},
   "source": [
    "#Player variables by position\n",
    "influence = fpl_players[['id',\"influence_f\"]]\n",
    "threat = fpl_players[['id',\"threat\"]]\n",
    "creativity = fpl_players[['id',\"creativity\"]]"
   ]
  },
  {
   "cell_type": "markdown",
   "metadata": {
    "collapsed": true
   },
   "source": [
    "# Get weighted summary stats for each player\n",
    "\n",
    "condlist = [fpl_players['position']=='Goalkeeper', fpl_players['position']=='Defender',fpl_players['position']=='Midfielder',fpl_players['position']=='Attacker']\n",
    "choicelist = [fpl_players['stats']=fpl_players['influence'],fpl_players['stats']=fpl_players['influence'],fpl_players['stats']=fpl_players['influence'],fpl_players['stats']=fpl_players['influence']]"
   ]
  },
  {
   "cell_type": "code",
   "execution_count": 42,
   "metadata": {
    "collapsed": true
   },
   "outputs": [],
   "source": [
    "def get_tuples(df, max_number, value_sort):\n",
    "\n",
    "    #Make variables for positions\n",
    "    #sorting = 'influence_f'\n",
    "    #top_players = 100\n",
    "\n",
    "\n",
    "    gks = fpl_players[fpl_players['position']=='Goalkeeper'].sort_values(by=value_sort, ascending=False)[:max_number]\n",
    "    defs = fpl_players[fpl_players['position']=='Defender'].sort_values(by=value_sort, ascending=False)[:max_number]\n",
    "    mds = fpl_players[fpl_players['position']=='Midfielder'].sort_values(by=value_sort, ascending=False)[:max_number]\n",
    "    ats = fpl_players[fpl_players['position']=='Attacker'].sort_values(by=value_sort, ascending=False)[:max_number]\n",
    "\n",
    "    rgks=range(0, len(gks))\n",
    "    rdefs=range(0, len(defs))\n",
    "    rmds=range(0, len(mds))\n",
    "    rats=range(0, len(ats))\n",
    "    \n",
    "    #Make tuples\n",
    "    gk = [tuple(c) for c in itertools.combinations(gks['id'], 2)]\n",
    "    df = [tuple(c) for c in itertools.combinations(defs['id'], 5)]\n",
    "    md = [tuple(c) for c in itertools.combinations(mds['id'], 5)]\n",
    "    at = [tuple(c) for c in itertools.combinations(ats['id'], 3)]\n",
    "    \n",
    "    return gk, df, md, at"
   ]
  },
  {
   "cell_type": "code",
   "execution_count": 43,
   "metadata": {
    "collapsed": false
   },
   "outputs": [],
   "source": [
    "gk, df, md, at = get_tuples(fpl_players, 20, 'influence_f')"
   ]
  },
  {
   "cell_type": "markdown",
   "metadata": {
    "collapsed": true
   },
   "source": [
    "\n",
    "\n",
    "# Possible tuples"
   ]
  },
  {
   "cell_type": "code",
   "execution_count": 98,
   "metadata": {
    "collapsed": true
   },
   "outputs": [],
   "source": [
    "#Make optjection function\n",
    "\n",
    "def total_influence(player, var):\n",
    "    \"\"\"Find the value of the table - \n",
    "    by calculating the combined influence between the players\"\"\"\n",
    "    u = []\n",
    "    \n",
    "    #for i in player:\n",
    "        #vol = fpl_players[fpl_players['id']==i][var].item()\n",
    "        #u.append(vol)\n",
    "\n",
    "    for i in range(0, len(player)):\n",
    "        vol = fpl_players[fpl_players['id']==player[i]][var].item()\n",
    "        u.append(vol)\n",
    "    return sum(u)\n"
   ]
  },
  {
   "cell_type": "code",
   "execution_count": 112,
   "metadata": {
    "collapsed": true
   },
   "outputs": [],
   "source": [
    "#Make price function\n",
    "\n",
    "def total_price(player):\n",
    "    \"\"\"Find the current price of the player \"\"\"\n",
    "    u = []\n",
    "    \n",
    "    for i in range(0, len(player)):\n",
    "        vol = fpl_players[fpl_players['id']==player[i]]['now_cost'].item()\n",
    "        u.append(vol)\n",
    "    return sum(u)\n"
   ]
  },
  {
   "cell_type": "raw",
   "metadata": {
    "collapsed": false
   },
   "source": [
    "# Make variables\n",
    "\n",
    "# for all possible GK options\n",
    "g = pulp.LpVariable.dicts('gks', gk, \n",
    "                            lowBound = 0,\n",
    "                            upBound = 1,\n",
    "                            cat = pulp.LpInteger)\n",
    "\n",
    "# for all possible DF options\n",
    "d = pulp.LpVariable.dicts('dfs', df, \n",
    "                            lowBound = 0,\n",
    "                            upBound = 1,\n",
    "                            cat = pulp.LpInteger)\n",
    "\n",
    "# for all possible MD options\n",
    "m = pulp.LpVariable.dicts('mds', md, \n",
    "                            lowBound = 0,\n",
    "                            upBound = 1,\n",
    "                            cat = pulp.LpInteger)\n",
    "\n",
    "# for all possible AT options\n",
    "a = pulp.LpVariable.dicts('ats', at, \n",
    "                            lowBound = 0,\n",
    "                            upBound = 1,\n",
    "                            cat = pulp.LpInteger)"
   ]
  },
  {
   "cell_type": "raw",
   "metadata": {
    "collapsed": false
   },
   "source": [
    "#Optimization goal\n",
    "\n",
    "player_selection = pulp.LpProblem(\"Player selection model\", pulp.LpMaximize)\n",
    "\n",
    "#player_selection += [total_influence(keepers) * x[keepers] for keepers in possible_gk]\n",
    "player_selection += pulp.lpSum([total_influence(player,'influence_f') * g[player] for player in gk]\n",
    "                              +[total_influence(player,'influence_f') * d[player] for player in df] \n",
    "                              +[total_influence(player,'influence_f') * m[player] for player in md]\n",
    "                              +[total_influence(player,'influence_f') * a[player] for player in at]), 'Max influence'"
   ]
  },
  {
   "cell_type": "raw",
   "metadata": {
    "collapsed": true
   },
   "source": [
    "# Get right number of sets, 1 for each position\n",
    "player_selection += pulp.lpSum([g[player] for player in gk]) == 1, \"Maximum_number_of_gks\"\n",
    "player_selection += pulp.lpSum([d[player] for player in df]) == 1, \"Maximum_number_of_dfs\"\n",
    "player_selection += pulp.lpSum([m[player] for player in md]) == 1, \"Maximum_number_of_mds\"\n",
    "player_selection += pulp.lpSum([a[player] for player in at]) == 1, \"Maximum_number_of_ats\""
   ]
  },
  {
   "cell_type": "raw",
   "metadata": {
    "collapsed": true
   },
   "source": [
    "#Budget constraint\n",
    "\n",
    "player_selection += pulp.lpSum([total_price(player) * g[player] for player in gk]\n",
    "                              +[total_price(player) * d[player] for player in df] \n",
    "                              +[total_price(player) * m[player] for player in md]\n",
    "                              +[total_price(player) * a[player] for player in at]) <= 1000, 'Max influence'"
   ]
  },
  {
   "cell_type": "code",
   "execution_count": null,
   "metadata": {
    "collapsed": true
   },
   "outputs": [],
   "source": []
  },
  {
   "cell_type": "raw",
   "metadata": {
    "collapsed": false
   },
   "source": [
    "player_selection.solve()"
   ]
  },
  {
   "cell_type": "raw",
   "metadata": {
    "collapsed": false
   },
   "source": [
    "pulp.LpStatus[player_selection.status]"
   ]
  },
  {
   "cell_type": "raw",
   "metadata": {
    "collapsed": false
   },
   "source": [
    "for team in gk:\n",
    "    if g[team].value() == 1.0:\n",
    "        print(team)\n",
    "        print fpl_players[fpl_players['id']==team[0]]['Name']\n",
    "        print fpl_players[fpl_players['id']==team[-1]]['Name']  "
   ]
  },
  {
   "cell_type": "raw",
   "metadata": {
    "collapsed": false
   },
   "source": [
    "for team in df:\n",
    "    if d[team].value() == 1.0:\n",
    "        print(team)\n",
    "        print fpl_players[fpl_players['id']==team[0]]['Name']\n",
    "        print fpl_players[fpl_players['id']==team[1]]['Name']  \n",
    "        print fpl_players[fpl_players['id']==team[2]]['Name']  \n",
    "        print fpl_players[fpl_players['id']==team[3]]['Name'] \n",
    "        print fpl_players[fpl_players['id']==team[4]]['Name']  "
   ]
  },
  {
   "cell_type": "raw",
   "metadata": {
    "collapsed": false
   },
   "source": [
    "for team in md:\n",
    "    if m[team].value() == 1.0:\n",
    "        print(team)\n",
    "        print fpl_players[fpl_players['id']==team[0]]['Name']\n",
    "        print fpl_players[fpl_players['id']==team[1]]['Name']  \n",
    "        print fpl_players[fpl_players['id']==team[2]]['Name']  \n",
    "        print fpl_players[fpl_players['id']==team[3]]['Name'] \n",
    "        print fpl_players[fpl_players['id']==team[4]]['Name']  "
   ]
  },
  {
   "cell_type": "raw",
   "metadata": {
    "collapsed": false
   },
   "source": [
    "for team in at:\n",
    "    if a[team].value() == 1.0:\n",
    "        print(team)\n",
    "        print fpl_players[fpl_players['id']==team[0]]['Name']\n",
    "        print fpl_players[fpl_players['id']==team[1]]['Name']  \n",
    "        print fpl_players[fpl_players['id']==team[2]]['Name']  "
   ]
  },
  {
   "cell_type": "markdown",
   "metadata": {},
   "source": [
    "# Get output"
   ]
  },
  {
   "cell_type": "raw",
   "metadata": {
    "collapsed": false
   },
   "source": [
    "player_choice.solve()"
   ]
  },
  {
   "cell_type": "raw",
   "metadata": {
    "collapsed": false
   },
   "source": [
    "for v in player_choice.variables():\n",
    "    if v.varValue > 0:\n",
    "        print(fpl_players[fpl_players['id']==int(v.name.split('_')[-1])]['position'],\":\",\n",
    "            fpl_players[fpl_players['id']==int(v.name.split('_')[-1])]['Name'], \"=\", v.varValue)\n",
    "    else:\n",
    "        continue\n"
   ]
  },
  {
   "cell_type": "code",
   "execution_count": null,
   "metadata": {
    "collapsed": true
   },
   "outputs": [],
   "source": []
  },
  {
   "cell_type": "code",
   "execution_count": null,
   "metadata": {
    "collapsed": true
   },
   "outputs": [],
   "source": []
  },
  {
   "cell_type": "code",
   "execution_count": null,
   "metadata": {
    "collapsed": true
   },
   "outputs": [],
   "source": []
  }
 ],
 "metadata": {
  "kernelspec": {
   "display_name": "Python 2",
   "language": "python",
   "name": "python2"
  },
  "language_info": {
   "codemirror_mode": {
    "name": "ipython",
    "version": 2
   },
   "file_extension": ".py",
   "mimetype": "text/x-python",
   "name": "python",
   "nbconvert_exporter": "python",
   "pygments_lexer": "ipython2",
   "version": "2.7.14"
  }
 },
 "nbformat": 4,
 "nbformat_minor": 2
}
