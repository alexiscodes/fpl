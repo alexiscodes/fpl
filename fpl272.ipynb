{
 "cells": [
  {
   "cell_type": "code",
   "execution_count": 4,
   "metadata": {
    "collapsed": true
   },
   "outputs": [],
   "source": [
    "import pandas as pd"
   ]
  },
  {
   "cell_type": "code",
   "execution_count": 5,
   "metadata": {
    "collapsed": false
   },
   "outputs": [],
   "source": [
    "from bs4 import BeautifulSoup\n",
    "import requests\n",
    "from lxml import html\n",
    "import json\n",
    "import numpy as np"
   ]
  },
  {
   "cell_type": "markdown",
   "metadata": {},
   "source": [
    "# Get Players"
   ]
  },
  {
   "cell_type": "raw",
   "metadata": {},
   "source": [
    "# For each player https://fantasy.premierleague.com/drf/element-summary/176\n",
    "# Team status https://fantasy.premierleague.com/drf/my-team/2481749/\n",
    "\n",
    "Other:\n",
    "/bootstrap (more data if authenticated)\n",
    "/bootstrap-static\n",
    "/bootstrap-dynamic\n",
    "/events\n",
    "/elements\n",
    "/element-types\n",
    "/fixtures\n",
    "/teams\n",
    "/region\n",
    "/transfers (requires auth)\n",
    "/entry/{entryId}\n",
    "/entries (doesn’t work in pre-season?)\n",
    "/my-team/{teamId} (requires auth)\n",
    "/leagues-entered/{teamId} (requires auth)\n",
    "/leagues-classic/{leagueId} (must be a member)\n",
    "/leagues-classic-standings/{leagueId}\n",
    "/leagues-h2h/{leagueId} (must be a member)\n",
    "/leagues-h2h-standings/{leagueId}"
   ]
  },
  {
   "cell_type": "code",
   "execution_count": 55,
   "metadata": {
    "collapsed": false
   },
   "outputs": [],
   "source": [
    "#Team Data\n",
    "dump = requests.get('https://fantasy.premierleague.com/drf/teams')\n",
    "load = dump.text\n",
    "team_dump = json.loads(load)\n",
    "\n",
    "team_list = []\n",
    "\n",
    "for team in range(0, len(team_dump)):\n",
    "    team_list.append(team_dump[team])\n",
    "    \n",
    "team_df = pd.DataFrame(team_list)\n",
    "team_df.rename(columns={'code': 'team_code', 'name': 'team_name'}, inplace=True)\n"
   ]
  },
  {
   "cell_type": "code",
   "execution_count": 104,
   "metadata": {
    "collapsed": false
   },
   "outputs": [],
   "source": [
    "# Position Data\n",
    "dump = requests.get('https://fantasy.premierleague.com/drf/element-types')\n",
    "load = dump.text\n",
    "position_dump = json.loads(load)\n",
    "\n",
    "position_list = []\n",
    "\n",
    "for pos in range(0, len(position_dump)):\n",
    "    position_list.append(position_dump[pos])\n",
    "    \n",
    "pos_df = pd.DataFrame(position_list)\n",
    "pos_df.rename(columns={'id': 'element_type'}, inplace=True)"
   ]
  },
  {
   "cell_type": "code",
   "execution_count": 33,
   "metadata": {
    "collapsed": true
   },
   "outputs": [],
   "source": [
    "dump = requests.get('https://fantasy.premierleague.com/drf/bootstrap')\n",
    "load = dump.text\n",
    "json_dump = json.loads(load)"
   ]
  },
  {
   "cell_type": "code",
   "execution_count": 34,
   "metadata": {
    "collapsed": false
   },
   "outputs": [],
   "source": [
    "datapoints = ['id', 'web_name', 'first_name', 'total_points', 'event_points', 'now_cost','cost_change_start', \n",
    "              'selected_by_percent', 'form','ep_next', 'team_code', 'element_type',\n",
    "              'chance_of_playing_next_round','minutes', 'bonus', 'goals_scored', 'assists', 'clean_sheets', \n",
    "              'goals_conceded', 'bps', 'influence', 'creativity', 'threat', 'ict_index', 'ea_index', 'news']\n",
    "\n",
    "player_list = []\n",
    "\n",
    "for player in range(0, len(json_dump['elements'])):\n",
    "    stats = [json_dump['elements'][player][x] for x in datapoints]\n",
    "    player_list.append(stats)\n",
    "    \n",
    "player_df = pd.DataFrame(player_list)\n",
    "\n",
    "\n",
    "# Rename columns\n",
    "player_df.columns = datapoints\n",
    "player_df['element_type']-=1"
   ]
  },
  {
   "cell_type": "code",
   "execution_count": 86,
   "metadata": {
    "collapsed": false
   },
   "outputs": [
    {
     "data": {
      "text/plain": [
       "team_code                                                                3\n",
       "current_event_fixture    [{u'is_home': True, u'day': 29, u'event_day': ...\n",
       "draw                                                                     0\n",
       "form                                                                  None\n",
       "id                                                                       1\n",
       "link_url                                                                  \n",
       "loss                                                                     0\n",
       "team_name                                                          Arsenal\n",
       "next_event_fixture       [{u'is_home': False, u'day': 7, u'event_day': ...\n",
       "played                                                                   0\n",
       "points                                                                   0\n",
       "position                                                                 0\n",
       "short_name                                                             ARS\n",
       "strength                                                                 4\n",
       "strength_attack_away                                                  1280\n",
       "strength_attack_home                                                  1230\n",
       "strength_defence_away                                                 1320\n",
       "strength_defence_home                                                 1270\n",
       "strength_overall_away                                                 1320\n",
       "strength_overall_home                                                 1250\n",
       "team_division                                                            1\n",
       "unavailable                                                          False\n",
       "win                                                                      0\n",
       "Name: 0, dtype: object"
      ]
     },
     "execution_count": 86,
     "metadata": {},
     "output_type": "execute_result"
    }
   ],
   "source": [
    "team_df.iloc[0]"
   ]
  },
  {
   "cell_type": "markdown",
   "metadata": {},
   "source": [
    "# Join the dataframes"
   ]
  },
  {
   "cell_type": "code",
   "execution_count": 105,
   "metadata": {
    "collapsed": false
   },
   "outputs": [],
   "source": [
    "combined_df_first = pd.merge(player_df, team_df, on='team_code', how='inner')\n",
    "combined_df = pd.merge(combined_df_first, pos_df, on='element_type', how='left')"
   ]
  },
  {
   "cell_type": "markdown",
   "metadata": {},
   "source": [
    "# Get Positions"
   ]
  },
  {
   "cell_type": "code",
   "execution_count": 6,
   "metadata": {
    "collapsed": true
   },
   "outputs": [],
   "source": [
    "players = requests.get('https://fantasy.premierleague.com/player-list/')\n",
    "totals = players.text\n",
    "total_soup = BeautifulSoup(totals)"
   ]
  },
  {
   "cell_type": "code",
   "execution_count": 7,
   "metadata": {
    "collapsed": true
   },
   "outputs": [],
   "source": [
    "#Get all player names\n",
    "\n",
    "player_names = total_soup.find_all('td')[::4]\n",
    "\n",
    "players = []\n",
    "\n",
    "for player in player_names:\n",
    "    name = player.get_text()\n",
    "    players.append(name)\n",
    "\n",
    "player_name_df = pd.DataFrame({\"Name\": players})"
   ]
  },
  {
   "cell_type": "code",
   "execution_count": 8,
   "metadata": {
    "collapsed": true
   },
   "outputs": [],
   "source": [
    "# Positions for first and last player in each field\n",
    "\n",
    "for i, e in enumerate(player_name_df['Name']):\n",
    "    if e == 'De Gea':   \n",
    "        gk=i\n",
    "    if e == 'Azpilicueta':   \n",
    "        defe=i\n",
    "    if e == 'Salah':   \n",
    "        mid=i\n",
    "    if e == 'Kane':   \n",
    "        att=i"
   ]
  },
  {
   "cell_type": "code",
   "execution_count": 9,
   "metadata": {
    "collapsed": false,
    "scrolled": true
   },
   "outputs": [],
   "source": [
    "#Populate df with positions\n",
    "player_name_df['position']=''\n",
    "\n",
    "\n",
    "player_name_df.loc[gk:(defe),'position']='Goalkeeper'\n",
    "player_name_df.loc[defe:(mid),'position']='Defender'\n",
    "player_name_df.loc[mid:(att),'position']='Midfielder'\n",
    "player_name_df.loc[att:,'position']='Attacker'"
   ]
  },
  {
   "cell_type": "code",
   "execution_count": 10,
   "metadata": {
    "collapsed": true
   },
   "outputs": [],
   "source": [
    "fpl_players =  pd.merge(player_name_df, player_df, left_on='Name', right_on='web_name')"
   ]
  },
  {
   "cell_type": "code",
   "execution_count": 11,
   "metadata": {
    "collapsed": false
   },
   "outputs": [
    {
     "name": "stderr",
     "output_type": "stream",
     "text": [
      "/Users/alexis.becker/anaconda/envs/py27/lib/python2.7/site-packages/pandas/core/algorithms.py:410: UnicodeWarning: Unicode equal comparison failed to convert both arguments to Unicode - interpreting them as being unequal\n",
      "  f = lambda x, y: htable.ismember_object(x, values)\n",
      "/Users/alexis.becker/anaconda/envs/py27/lib/python2.7/site-packages/ipykernel_launcher.py:10: UserWarning: Boolean Series key will be reindexed to match DataFrame index.\n",
      "  # Remove the CWD from sys.path while we load stuff.\n"
     ]
    }
   ],
   "source": [
    "# Deal with duplicates\n",
    "\n",
    "duplicats = fpl_players['Name'].value_counts()>1\n",
    "\n",
    "dup_names = fpl_players['Name'].isin(['Rico', 'McCarthy','Ward','Mendy', 'Bennett','Davies','Gray','Long','Simpson','Reid','Sánchez','McCartyh','Stephens', 'Pereira', 'Murphy', 'Williams'])\n",
    "dup_ids = fpl_players['id'].isin([295, 359])\n",
    "\n",
    "\n",
    "fpl_players.drop(fpl_players[dup_names].index, inplace=True)\n",
    "fpl_players.drop(fpl_players[dup_ids].index, inplace=True)"
   ]
  },
  {
   "cell_type": "markdown",
   "metadata": {},
   "source": [
    "# Optimal Choice"
   ]
  },
  {
   "cell_type": "code",
   "execution_count": 12,
   "metadata": {
    "collapsed": false
   },
   "outputs": [],
   "source": [
    "import pulp\n",
    "import regex\n",
    "import pickle\n",
    "import itertools"
   ]
  },
  {
   "cell_type": "markdown",
   "metadata": {},
   "source": [
    "# Iteration 3.0"
   ]
  },
  {
   "cell_type": "code",
   "execution_count": 13,
   "metadata": {
    "collapsed": false
   },
   "outputs": [],
   "source": [
    "#Change format of df\n",
    "fpl_players['influence_f'] = fpl_players['influence'].astype(float)\n",
    "fpl_players['influence_f'].fillna(0, inplace=True)\n",
    "\n",
    "fpl_players['bps_f'] = fpl_players['bps'].astype(float)\n",
    "fpl_players['bps_f'].fillna(0, inplace=True)\n",
    "\n",
    "fpl_players['now_cost_f'] = fpl_players['now_cost'].astype(float)\n",
    "fpl_players['now_cost'].fillna(0, inplace=True)\n",
    "\n",
    "fpl_players['ict_f'] = fpl_players['ict_index'].astype(float)\n",
    "fpl_players['ict_f'].fillna(0, inplace=True)\n",
    "\n",
    "#Make variables\n",
    "\n",
    "#Player variables by position\n",
    "influence = fpl_players[['id',\"influence_f\"]]\n",
    "threat = fpl_players[['id',\"threat\"]]\n",
    "creativity = fpl_players[['id',\"creativity\"]]"
   ]
  },
  {
   "cell_type": "markdown",
   "metadata": {
    "collapsed": true
   },
   "source": [
    "# Get weighted summary stats for each player\n",
    "\n",
    "condlist = [fpl_players['position']=='Goalkeeper', fpl_players['position']=='Defender',fpl_players['position']=='Midfielder',fpl_players['position']=='Attacker']\n",
    "choicelist = [fpl_players['stats']=fpl_players['influence'],fpl_players['stats']=fpl_players['influence'],fpl_players['stats']=fpl_players['influence'],fpl_players['stats']=fpl_players['influence']]"
   ]
  },
  {
   "cell_type": "code",
   "execution_count": 14,
   "metadata": {
    "collapsed": true
   },
   "outputs": [],
   "source": [
    "#Make variables for positions\n",
    "sorting = 'influence_f'\n",
    "top_players = 100\n",
    "\n",
    "\n",
    "gks = fpl_players[fpl_players['position']=='Goalkeeper'].sort_values(by=sorting, ascending=False)[:20]\n",
    "defs = fpl_players[fpl_players['position']=='Defender'].sort_values(by=sorting, ascending=False)[:20]\n",
    "mds = fpl_players[fpl_players['position']=='Midfielder'].sort_values(by=sorting, ascending=False)[:20]\n",
    "ats = fpl_players[fpl_players['position']=='Attacker'].sort_values(by=sorting, ascending=False)[:20]\n",
    "\n",
    "rgks=range(0, len(gks))\n",
    "rdefs=range(0, len(defs))\n",
    "rmds=range(0, len(mds))\n",
    "rats=range(0, len(ats))"
   ]
  },
  {
   "cell_type": "code",
   "execution_count": 15,
   "metadata": {
    "collapsed": false
   },
   "outputs": [],
   "source": [
    "#Make tuples\n",
    "\n",
    "\n",
    "gk = [tuple(c) for c in itertools.combinations(gks['id'], 2)]\n",
    "df = [tuple(c) for c in itertools.combinations(defs['id'], 5)]\n",
    "md = [tuple(c) for c in itertools.combinations(mds['id'], 5)]\n",
    "at = [tuple(c) for c in itertools.combinations(ats['id'], 3)]"
   ]
  },
  {
   "cell_type": "markdown",
   "metadata": {
    "collapsed": true
   },
   "source": [
    "\n",
    "\n",
    "# Possible tuples\n",
    "possible_gk = [tuple(c) for c in pulp.allcombinations(gks['id'], 2)]\n",
    "possible_df = [tuple(c) for c in pulp.allcombinations(defs['id'], 2)]\n",
    "possible_md = [tuple(c) for c in pulp.allcombinations(mds['id'], 5)]\n",
    "possible_at = [tuple(c) for c in pulp.allcombinations(ats['id'], 3)]"
   ]
  },
  {
   "cell_type": "code",
   "execution_count": 16,
   "metadata": {
    "collapsed": true
   },
   "outputs": [],
   "source": [
    "#Make optjection function\n",
    "\n",
    "def total_influence(player, var):\n",
    "    \"\"\"Find the value of the table - \n",
    "    by calculating the combined influence between the players\"\"\"\n",
    "    u = []\n",
    "    \n",
    "    #for i in player:\n",
    "        #vol = fpl_players[fpl_players['id']==i][var].item()\n",
    "        #u.append(vol)\n",
    "\n",
    "    for i in range(0, len(player)):\n",
    "        vol = fpl_players[fpl_players['id']==player[i]][var].item()\n",
    "        u.append(vol)\n",
    "    return sum(u)\n"
   ]
  },
  {
   "cell_type": "code",
   "execution_count": 17,
   "metadata": {
    "collapsed": true
   },
   "outputs": [],
   "source": [
    "#Make price function\n",
    "\n",
    "def total_price(player):\n",
    "    \"\"\"Find the current price of the player \"\"\"\n",
    "    u = []\n",
    "    \n",
    "    for i in range(0, len(player)):\n",
    "        vol = fpl_players[fpl_players['id']==player[i]]['now_cost'].item()\n",
    "        u.append(vol)\n",
    "    return sum(u)\n"
   ]
  },
  {
   "cell_type": "code",
   "execution_count": 18,
   "metadata": {
    "collapsed": false
   },
   "outputs": [],
   "source": [
    "# Make variables\n",
    "\n",
    "# for all possible GK options\n",
    "g = pulp.LpVariable.dicts('gks', gk, \n",
    "                            lowBound = 0,\n",
    "                            upBound = 1,\n",
    "                            cat = pulp.LpInteger)\n",
    "\n",
    "# for all possible DF options\n",
    "d = pulp.LpVariable.dicts('dfs', df, \n",
    "                            lowBound = 0,\n",
    "                            upBound = 1,\n",
    "                            cat = pulp.LpInteger)\n",
    "\n",
    "# for all possible MD options\n",
    "m = pulp.LpVariable.dicts('mds', md, \n",
    "                            lowBound = 0,\n",
    "                            upBound = 1,\n",
    "                            cat = pulp.LpInteger)\n",
    "\n",
    "# for all possible AT options\n",
    "a = pulp.LpVariable.dicts('ats', at, \n",
    "                            lowBound = 0,\n",
    "                            upBound = 1,\n",
    "                            cat = pulp.LpInteger)"
   ]
  },
  {
   "cell_type": "code",
   "execution_count": 19,
   "metadata": {
    "collapsed": false
   },
   "outputs": [],
   "source": [
    "#Optimization goal\n",
    "\n",
    "player_selection = pulp.LpProblem(\"Player selection model\", pulp.LpMaximize)\n",
    "\n",
    "#player_selection += [total_influence(keepers) * x[keepers] for keepers in possible_gk]\n",
    "player_selection += pulp.lpSum([total_influence(player,'influence_f') * g[player] for player in gk]\n",
    "                              +[total_influence(player,'influence_f') * d[player] for player in df] \n",
    "                              +[total_influence(player,'influence_f') * m[player] for player in md]\n",
    "                              +[total_influence(player,'influence_f') * a[player] for player in at]), 'Max influence'"
   ]
  },
  {
   "cell_type": "code",
   "execution_count": 20,
   "metadata": {
    "collapsed": true
   },
   "outputs": [],
   "source": [
    "# Get right number of sets, 1 for each position\n",
    "player_selection += pulp.lpSum([g[player] for player in gk]) == 1, \"Maximum_number_of_gks\"\n",
    "player_selection += pulp.lpSum([d[player] for player in df]) == 1, \"Maximum_number_of_dfs\"\n",
    "player_selection += pulp.lpSum([m[player] for player in md]) == 1, \"Maximum_number_of_mds\"\n",
    "player_selection += pulp.lpSum([a[player] for player in at]) == 1, \"Maximum_number_of_ats\""
   ]
  },
  {
   "cell_type": "code",
   "execution_count": 21,
   "metadata": {
    "collapsed": true
   },
   "outputs": [],
   "source": [
    "#Budget constraint\n",
    "\n",
    "player_selection += pulp.lpSum([total_price(player) * g[player] for player in gk]\n",
    "                              +[total_price(player) * d[player] for player in df] \n",
    "                              +[total_price(player) * m[player] for player in md]\n",
    "                              +[total_price(player) * a[player] for player in at]) <= 1000, 'Max influence'"
   ]
  },
  {
   "cell_type": "markdown",
   "metadata": {},
   "source": [
    "# Model Result"
   ]
  },
  {
   "cell_type": "code",
   "execution_count": 22,
   "metadata": {
    "collapsed": false
   },
   "outputs": [
    {
     "data": {
      "text/plain": [
       "1"
      ]
     },
     "execution_count": 22,
     "metadata": {},
     "output_type": "execute_result"
    }
   ],
   "source": [
    "player_selection.solve()"
   ]
  },
  {
   "cell_type": "code",
   "execution_count": 23,
   "metadata": {
    "collapsed": false
   },
   "outputs": [
    {
     "data": {
      "text/plain": [
       "'Optimal'"
      ]
     },
     "execution_count": 23,
     "metadata": {},
     "output_type": "execute_result"
    }
   ],
   "source": [
    "pulp.LpStatus[player_selection.status]"
   ]
  },
  {
   "cell_type": "code",
   "execution_count": 57,
   "metadata": {
    "collapsed": false
   },
   "outputs": [
    {
     "name": "stdout",
     "output_type": "stream",
     "text": [
      "Total cost of the team selection: 925\n"
     ]
    }
   ],
   "source": [
    "# Total Cost\n",
    "cost = 0\n",
    "for team in gk:\n",
    "    if g[team].value() == 1.0:\n",
    "        for x in range(0,2):\n",
    "            cost += fpl_players[fpl_players['id']==team[x]][['now_cost']].values\n",
    "for team in df:\n",
    "    if d[team].value() == 1.0:\n",
    "        for x in range(0, 5):\n",
    "            cost += fpl_players[fpl_players['id']==team[x]][['now_cost']].values\n",
    "for team in md:\n",
    "    if m[team].value() == 1.0:\n",
    "        for x in range(0, 5):\n",
    "            cost += fpl_players[fpl_players['id']==team[x]][['now_cost']].values\n",
    "for team in at:\n",
    "    if a[team].value() == 1.0:\n",
    "        for x in range(0,3):\n",
    "             cost += fpl_players[fpl_players['id']==team[2]][['now_cost']].values\n",
    "                \n",
    "print \"Total cost of the team selection: \" + str(cost[0][0])"
   ]
  },
  {
   "cell_type": "code",
   "execution_count": 24,
   "metadata": {
    "collapsed": false
   },
   "outputs": [
    {
     "name": "stdout",
     "output_type": "stream",
     "text": [
      "(490, 88)\n",
      "    Name  now_cost\n",
      "22  Hart        45\n",
      "         Name  now_cost\n",
      "18  Etheridge        46\n"
     ]
    }
   ],
   "source": [
    "for team in gk:\n",
    "    if g[team].value() == 1.0:\n",
    "        print(team)\n",
    "        print fpl_players[fpl_players['id']==team[0]][['Name', 'now_cost']]\n",
    "        print fpl_players[fpl_players['id']==team[-1]][['Name', 'now_cost']]"
   ]
  },
  {
   "cell_type": "code",
   "execution_count": 59,
   "metadata": {
    "collapsed": false
   },
   "outputs": [
    {
     "name": "stdout",
     "output_type": "stream",
     "text": [
      "(72, 49, 27, 378, 7)\n",
      "          Name  now_cost\n",
      "137  Tarkowski        50\n",
      "      Name  now_cost\n",
      "170  Duffy        45\n",
      "           Name  now_cost\n",
      "167  Steve Cook        46\n",
      "        Name  now_cost\n",
      "157  Holebas        49\n",
      "        Name  now_cost\n",
      "112  Mustafi        54\n"
     ]
    }
   ],
   "source": [
    "for team in df:\n",
    "    if d[team].value() == 1.0:\n",
    "        print(team)\n",
    "        print fpl_players[fpl_players['id']==team[0]][['Name', 'now_cost']]\n",
    "        print fpl_players[fpl_players['id']==team[1]][['Name', 'now_cost']]  \n",
    "        print fpl_players[fpl_players['id']==team[2]][['Name', 'now_cost']]  \n",
    "        print fpl_players[fpl_players['id']==team[3]][['Name', 'now_cost']] \n",
    "        print fpl_players[fpl_players['id']==team[4]][['Name', 'now_cost']]  "
   ]
  },
  {
   "cell_type": "code",
   "execution_count": 26,
   "metadata": {
    "collapsed": false
   },
   "outputs": [
    {
     "name": "stdout",
     "output_type": "stream",
     "text": [
      "(122, 40, 251, 233, 302)\n",
      "       Name  now_cost\n",
      "276  Hazard       110\n",
      "       Name  now_cost\n",
      "320  Fraser        59\n",
      "     Name  now_cost\n",
      "278  Mané       100\n",
      "         Name  now_cost\n",
      "299  Maddison        68\n",
      "      Name  now_cost\n",
      "287  Pogba        82\n"
     ]
    }
   ],
   "source": [
    "for team in md:\n",
    "    if m[team].value() == 1.0:\n",
    "        print(team)\n",
    "        print fpl_players[fpl_players['id']==team[0]][['Name', 'now_cost']]\n",
    "        print fpl_players[fpl_players['id']==team[1]][['Name', 'now_cost']]\n",
    "        print fpl_players[fpl_players['id']==team[2]][['Name', 'now_cost']]  \n",
    "        print fpl_players[fpl_players['id']==team[3]][['Name', 'now_cost']]\n",
    "        print fpl_players[fpl_players['id']==team[4]][['Name', 'now_cost']] "
   ]
  },
  {
   "cell_type": "code",
   "execution_count": 27,
   "metadata": {
    "collapsed": false
   },
   "outputs": [
    {
     "name": "stdout",
     "output_type": "stream",
     "text": [
      "(280, 480, 258)\n",
      "       Name  now_cost\n",
      "475  Agüero       114\n",
      "         Name  now_cost\n",
      "485  Mitrovic        70\n",
      "     Name  now_cost\n",
      "508  Ings        57\n"
     ]
    }
   ],
   "source": [
    "for team in at:\n",
    "    if a[team].value() == 1.0:\n",
    "        print(team)\n",
    "        print fpl_players[fpl_players['id']==team[0]][['Name', 'now_cost']]\n",
    "        print fpl_players[fpl_players['id']==team[1]][['Name', 'now_cost']]\n",
    "        print fpl_players[fpl_players['id']==team[2]][['Name', 'now_cost']]  "
   ]
  },
  {
   "cell_type": "code",
   "execution_count": 52,
   "metadata": {
    "collapsed": false
   },
   "outputs": [
    {
     "data": {
      "text/html": [
       "<div>\n",
       "<style scoped>\n",
       "    .dataframe tbody tr th:only-of-type {\n",
       "        vertical-align: middle;\n",
       "    }\n",
       "\n",
       "    .dataframe tbody tr th {\n",
       "        vertical-align: top;\n",
       "    }\n",
       "\n",
       "    .dataframe thead th {\n",
       "        text-align: right;\n",
       "    }\n",
       "</style>\n",
       "<table border=\"1\" class=\"dataframe\">\n",
       "  <thead>\n",
       "    <tr style=\"text-align: right;\">\n",
       "      <th></th>\n",
       "      <th>Name</th>\n",
       "      <th>position</th>\n",
       "      <th>id</th>\n",
       "      <th>web_name</th>\n",
       "      <th>first_name</th>\n",
       "      <th>total_points</th>\n",
       "      <th>event_points</th>\n",
       "      <th>now_cost</th>\n",
       "      <th>cost_change_start</th>\n",
       "      <th>selected_by_percent</th>\n",
       "      <th>...</th>\n",
       "      <th>influence</th>\n",
       "      <th>creativity</th>\n",
       "      <th>threat</th>\n",
       "      <th>ict_index</th>\n",
       "      <th>ea_index</th>\n",
       "      <th>news</th>\n",
       "      <th>influence_f</th>\n",
       "      <th>bps_f</th>\n",
       "      <th>now_cost_f</th>\n",
       "      <th>ict_f</th>\n",
       "    </tr>\n",
       "  </thead>\n",
       "  <tbody>\n",
       "    <tr>\n",
       "      <th>496</th>\n",
       "      <td>Vydra</td>\n",
       "      <td>Attacker</td>\n",
       "      <td>495</td>\n",
       "      <td>Vydra</td>\n",
       "      <td>Matej</td>\n",
       "      <td>0</td>\n",
       "      <td>0</td>\n",
       "      <td>60</td>\n",
       "      <td>0</td>\n",
       "      <td>0.1</td>\n",
       "      <td>...</td>\n",
       "      <td>0.0</td>\n",
       "      <td>0.0</td>\n",
       "      <td>0.0</td>\n",
       "      <td>0.0</td>\n",
       "      <td>0</td>\n",
       "      <td></td>\n",
       "      <td>0.0</td>\n",
       "      <td>0.0</td>\n",
       "      <td>60.0</td>\n",
       "      <td>0.0</td>\n",
       "    </tr>\n",
       "  </tbody>\n",
       "</table>\n",
       "<p>1 rows × 30 columns</p>\n",
       "</div>"
      ],
      "text/plain": [
       "      Name  position   id web_name first_name  total_points  event_points  \\\n",
       "496  Vydra  Attacker  495    Vydra      Matej             0             0   \n",
       "\n",
       "     now_cost  cost_change_start selected_by_percent  ...   influence  \\\n",
       "496        60                  0                 0.1  ...         0.0   \n",
       "\n",
       "    creativity  threat  ict_index  ea_index  news  influence_f  bps_f  \\\n",
       "496        0.0     0.0        0.0         0                0.0    0.0   \n",
       "\n",
       "     now_cost_f  ict_f  \n",
       "496        60.0    0.0  \n",
       "\n",
       "[1 rows x 30 columns]"
      ]
     },
     "execution_count": 52,
     "metadata": {},
     "output_type": "execute_result"
    }
   ],
   "source": [
    "fpl_players[fpl_players['id']==495]"
   ]
  },
  {
   "cell_type": "markdown",
   "metadata": {},
   "source": [
    "# Get output"
   ]
  },
  {
   "cell_type": "code",
   "execution_count": 1101,
   "metadata": {
    "collapsed": false
   },
   "outputs": [
    {
     "data": {
      "text/plain": [
       "1"
      ]
     },
     "execution_count": 1101,
     "metadata": {},
     "output_type": "execute_result"
    }
   ],
   "source": [
    "player_choice.solve()"
   ]
  },
  {
   "cell_type": "code",
   "execution_count": 1129,
   "metadata": {
    "collapsed": false
   },
   "outputs": [],
   "source": [
    "for v in player_choice.variables():\n",
    "    if v.varValue > 0:\n",
    "        print(fpl_players[fpl_players['id']==int(v.name.split('_')[-1])]['position'],\":\",\n",
    "            fpl_players[fpl_players['id']==int(v.name.split('_')[-1])]['Name'], \"=\", v.varValue)\n",
    "    else:\n",
    "        continue\n"
   ]
  },
  {
   "cell_type": "code",
   "execution_count": null,
   "metadata": {
    "collapsed": true
   },
   "outputs": [],
   "source": []
  },
  {
   "cell_type": "code",
   "execution_count": null,
   "metadata": {
    "collapsed": true
   },
   "outputs": [],
   "source": []
  },
  {
   "cell_type": "code",
   "execution_count": null,
   "metadata": {
    "collapsed": true
   },
   "outputs": [],
   "source": []
  }
 ],
 "metadata": {
  "kernelspec": {
   "display_name": "Python 2",
   "language": "python",
   "name": "python2"
  },
  "language_info": {
   "codemirror_mode": {
    "name": "ipython",
    "version": 2
   },
   "file_extension": ".py",
   "mimetype": "text/x-python",
   "name": "python",
   "nbconvert_exporter": "python",
   "pygments_lexer": "ipython2",
   "version": "2.7.14"
  }
 },
 "nbformat": 4,
 "nbformat_minor": 2
}
